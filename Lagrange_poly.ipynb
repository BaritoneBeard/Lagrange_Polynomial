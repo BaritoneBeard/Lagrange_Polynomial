{
 "cells": [
  {
   "cell_type": "markdown",
   "metadata": {},
   "source": [
    "# The Lagrange Polynomial as it relates to Numerical Differentiation and Numerical Integration\n",
    "### Ashley Patenaude and Nicholas Almeder"
   ]
  },
  {
   "cell_type": "markdown",
   "metadata": {},
   "source": [
    "Numerical differentiation and numerical integration (Trapezoidal rule or Simpson’s rule) can also be derived from _Lagrange polynomial_. "
   ]
  },
  {
   "cell_type": "markdown",
   "metadata": {},
   "source": [
    "## Part 1: Lagrange Polynomials"
   ]
  },
  {
   "cell_type": "markdown",
   "metadata": {},
   "source": [
    "### (1) Define polynomial interpolation:"
   ]
  },
  {
   "cell_type": "markdown",
   "metadata": {},
   "source": [
    "Polynomial interpolation, much like Taylor's Polynomial, is a way to approximate a given function. Unlike Tyalor's polynomial, which makes an approximation at only one specific point, polynomial interpolation uses a whole interval to make its approximation and is therefore more accurate in making the approximation."
   ]
  },
  {
   "cell_type": "markdown",
   "metadata": {},
   "source": [
    "### (2) Derive the linear Lagrange interpolating polynomial using (x0, y0) and (x1, y1):"
   ]
  },
  {
   "cell_type": "markdown",
   "metadata": {},
   "source": [
    "<div align=\"center\">Let</div>    \n",
    "$$L_0(x)= \\frac{x-x_1}{x_0-x_1}$$   \n",
    "$$L_1(x)= \\frac{x-x_0}{x_1-x_0}$$   "
   ]
  },
  {
   "cell_type": "markdown",
   "metadata": {},
   "source": [
    "Then, the linear Lagrange Interpolating Polynomial using $(x_0, y_0)$ and $(x_1, y_1)$ is defined as  "
   ]
  },
  {
   "cell_type": "markdown",
   "metadata": {},
   "source": [
    "$$P(x)=L_0(x)f(x_0)+L_1(x)f(x_1)=\\frac{x-x_1}{x_0-x_1}f(x_0)+\\frac{x-x_0}{x_1-x_0}f(x_1)$$"
   ]
  },
  {
   "cell_type": "markdown",
   "metadata": {},
   "source": [
    "### (a) Provide the formula for the polynomial $P_1(x)$ passing through the points $(1, 2)$ and $(3, 4)$:"
   ]
  },
  {
   "cell_type": "markdown",
   "metadata": {},
   "source": [
    "$$P_1(x)=\\frac{-1}{2}(x-3)\\cdot2+\\frac{1}{2}(x-1)\\cdot4$$   \n",
    "$$=-x+3+2x-2$$   \n",
    "$$= x+1$$   "
   ]
  },
  {
   "cell_type": "markdown",
   "metadata": {},
   "source": [
    "<div align=\"center\">Thus, $P_1(x)=x+1$.</div>"
   ]
  },
  {
   "cell_type": "markdown",
   "metadata": {},
   "source": [
    "### (3) Derive the quadratic Lagrange interpolating polynomial through $(x_0, y_0)$, $(x_1, y_1)$, and $(x_2, y_2)$:"
   ]
  },
  {
   "cell_type": "markdown",
   "metadata": {},
   "source": [
    "<div align=\"center\">Let</div>       "
   ]
  },
  {
   "cell_type": "markdown",
   "metadata": {},
   "source": [
    "$$L_0(x)= \\frac{(x-x_1)(x-x_2)}{(x_0-x_1)(x_0-x_2)}$$   \n",
    "$$L_1(x)= \\frac{(x-x_0)(x-x_2)}{(x_1-x_0)(x_1-x_2)}$$    \n",
    "$$L_2(x)= \\frac{(x-x_0)(x-x_1)}{(x_2-x_0)(x_2-x_1)}$$"
   ]
  },
  {
   "cell_type": "markdown",
   "metadata": {},
   "source": [
    "Then, the quadratic Lagrange Interpolating Polynomial using $(x_0, y_0)$, $(x_1, y_1)$, and $(x_2, y_2)$ is defined as  "
   ]
  },
  {
   "cell_type": "markdown",
   "metadata": {},
   "source": [
    "$$P_2(x)=L_0(x)f(x_0)+L_1(x)f(x_1)+L_2(x)f(x_2)=\\frac{(x-x_1)(x-x_2)}{(x_0-x_1)(x_0-x_2)}f(x_0)+\\frac{(x-x_0)(x-x_2)}{(x_1-x_0)(x_1-x_2)}f(x_1)+\\frac{(x-x_0)(x-x_1)}{(x_2-x_0)(x_2-x_1)}f(x_2)$$"
   ]
  },
  {
   "cell_type": "markdown",
   "metadata": {},
   "source": [
    "(Citation: “Quadratic Lagrange Interpolating Polynomials.” *Mathonline*, mathonline.wikidot.com/quadratic-lagrange-interpolating-polynomials.)"
   ]
  },
  {
   "cell_type": "markdown",
   "metadata": {},
   "source": [
    "### (a) Provide the polynomial the formula for $P_2(x)$ passing through the points $(1, 2)$, $(3, 4)$, $(5, 6)$:"
   ]
  },
  {
   "cell_type": "markdown",
   "metadata": {},
   "source": [
    "$$P_2(x)=\\frac{(x-3)(x-5)}{(-2)(-4)}\\cdot2+\\frac{(x-1)(x-5)}{(2)(-2)}\\cdot4+\\frac{(x-1)(x-3)}{(4)(2)}\\cdot6$$   \n",
    "$$=\\frac{1}{4}(x-3)(x-5)-(x-1)(x-5)+\\frac{3}{4}(x-1)(x-3)$$   \n",
    "$$=\\frac{1}{4}x^2-2x+\\frac{15}{4}-x^2+6x-5+\\frac{3}{4}x^2-3x+\\frac{9}{4}$$    \n",
    "$$=x+1$$   "
   ]
  },
  {
   "cell_type": "markdown",
   "metadata": {},
   "source": [
    "<div align=\"center\">Thus, $P_2(x)=x+1$.</div>"
   ]
  },
  {
   "cell_type": "markdown",
   "metadata": {},
   "source": [
    "### (4) From the linear and quadratic cases, provide the general case of Lagrange interpolating polynomial $P_n(x)$ passing through $n +1$ points $(x_0, f(x_0))$, $(x_1, f(x_1))$, $(x_2, f(x_2))$, · · · ,$(x_{n−1}, f(x_{n−1}))$, $(x_n, f(x_n))$:\n"
   ]
  },
  {
   "cell_type": "markdown",
   "metadata": {},
   "source": [
    "Firstly, for each $k=0,1,...,n$, a function $L_{n,k}(x)$ where $L_{n,k}(x)$ when $i\\neq k$ and $L_{n,k}(x_k)=1$. So that $L_{n,k}(x_i)=0$ is satisfied for each $i\\neq k$, the numerator of $L_{n,k}(x)$ contains      \n",
    "$$(x-x_0)(x-x_1)...(x-x_{k-1})(x-x_{k+1})...(x-x_n)$$"
   ]
  },
  {
   "cell_type": "markdown",
   "metadata": {},
   "source": [
    "In order to satisfy $L_{n,k}(x_k)=1$, the denominator of $L_{n,k}(x)$ must be the term above but evaluated at $x=x_k$. Thus we have,"
   ]
  },
  {
   "cell_type": "markdown",
   "metadata": {},
   "source": [
    "$$L_{n,k}(x)=\\frac{(x-x_0)...(x-x_{k-1})(x-x_{k+1})...(x-x_n)}{(x_k-x_0)...(x_k-x_{k-1})(x_k-x_{k+1})...(x_k-x_n)}$$"
   ]
  },
  {
   "cell_type": "markdown",
   "metadata": {},
   "source": [
    "Once we know $L_{n,k}$, we can derive the general case of Lagrange interpolation polynomial $P_n(x)$."
   ]
  },
  {
   "cell_type": "markdown",
   "metadata": {},
   "source": [
    "For $n +1$ points $(x_0, f(x_0))$, $(x_1, f(x_1))$, $(x_2, f(x_2))$, · · · ,$(x_{n−1}, f(x_{n−1}))$, $(x_n, f(x_n))$, we can say that $P(x)$ of degree $n$ exists with"
   ]
  },
  {
   "cell_type": "markdown",
   "metadata": {},
   "source": [
    "$$f(x_k)=P(x_k)$$   \n",
    "for each $k=0, 1, ..., n$.\n",
    "$P(X)$ is given as   \n",
    "$$P(x)=L_{n,0}(x)f(x_0)+...+L_{n,n}(x)f(x_n)=\\sum_{k=0}^{n}L_{n,k}(x)f(x_k)$$"
   ]
  },
  {
   "cell_type": "markdown",
   "metadata": {},
   "source": [
    "### (5) What are the advantages and disadvantages of Lagrange polynomial?"
   ]
  },
  {
   "cell_type": "markdown",
   "metadata": {},
   "source": [
    "A great advantage to using Lagrage polynomials is that it can very accurately arrive at an approximation while knowing very little information about the given function. A disadvantage to using the Lagrage polynomial is that your work can become very tedious. While the use of a whole interval rather than just one point gives you a much more accurate approximation, you need to spend lots of extra time evaluating the approximations within each set of intervals used."
   ]
  },
  {
   "cell_type": "markdown",
   "metadata": {},
   "source": [
    "## Part 2: Numerical Differentiation"
   ]
  },
  {
   "cell_type": "markdown",
   "metadata": {},
   "source": [
    "Use Lagrange polynomial to derive the approximation for $f'(x)$ using"
   ]
  },
  {
   "cell_type": "markdown",
   "metadata": {},
   "source": [
    "### (1) three-point endpoints: $x_0, x_1 = x_0 + h$, and $x_2 = x_0 + 2h$, for some $h\\neq0$"
   ]
  },
  {
   "cell_type": "markdown",
   "metadata": {},
   "source": [
    "We use th expression below as a template for this problem:   \n",
    "$$f'(x_j)=f(x_0)\\left[\\frac{2x_j-x_1-x_2}{(x_0-x_1)(x_0-x_2)}\\right] +f(x_1)\\left[\\frac{2x_j-x_0-x_2}{(x_1-x_0)(x_1-x_2)}\\right]  \n",
    "+f(x_2)\\left[\\frac{2x_j-x_0-x_1}{(x_2-x_0)(x_2-x_1)}\\right]+\\frac{1}{6}f^{(3)}(\\xi_j)\\prod_{k=0,~k\\neq j}^{2}(x_j-x_k)$$   \n",
    "\n"
   ]
  },
  {
   "cell_type": "markdown",
   "metadata": {},
   "source": [
    "We begin with the following expressions:   \n",
    "$$f'(x_0)=\\frac{1}{h}\\left[-\\frac{3}{2}f(x_0)+2f(x_0+h)-\\frac{1}{2}f(x_0+2h)\\right]+\\frac{h^2}{3}f^{(3)}(\\xi_0),$$   \n",
    "$$f'(x_0+h)=\\frac{1}{h}\\left[-\\frac{1}{2}f(x_0)+\\frac{1}{2}f(x_0+2h)\\right]-\\frac{h^2}{6}f^{(3)}(\\xi_1),$$   \n",
    "$$f'(x_0+2h)=\\frac{1}{h}\\left[\\frac{1}{2}f(x_0)-2f(x_0+h)+\\frac{3}{2}f(x_0+2h)\\right]+\\frac{h^2}{3}f^{(3)}(\\xi_2)$$   \n",
    "Substituting $x_0$ for $x_0+h$ in the middle equation can change the formula to an approximation for $f'(x_0)$. Substituting $x_0$ for $x_0+2h$ in the last equation will also change the formula to an approximation for $f'(x_0)$. The three expressions above will thus turn into:   \n",
    "$$f'(x_0)=\\frac{1}{2h}[-3f(x_0)+4f(x_0+h)-f(x_0+2h)]+\\frac{h^2}{3}f^{(3)}(\\xi_0),$$   \n",
    "$$f'(x_0)=\\frac{1}{2h}[-f(x_0-h)+f(x_0+h)]-\\frac{h^2}{6}f^{(3)}(\\xi_1),$$  \n",
    "$$f'(x_0)=\\frac{1}{2h}[f(x_0-2h)-4f(x_0-h)+3f(x_0)]+\\frac{h^2}{3}f^{(3)}(\\xi_2)$$   \n",
    "Thus, we have our **Three-Point Endpoint Formula** using the first of the three formulas:   \n",
    "$$f'(x_0)=\\frac{1}{2h}[-3f(x_0)+4f(x_0+h)-f(x_0+2h)]+\\frac{h^2}{3}f^{(3)}(\\xi_0)$$    \n",
    "where $\\xi_0$ lies between $x_0$ and $x_0+2h$."
   ]
  },
  {
   "cell_type": "markdown",
   "metadata": {},
   "source": [
    "### (2) three-point midpoint: $x_0, x_0 − h$, $x_0 + h$,for some $h\\neq0$"
   ]
  },
  {
   "cell_type": "markdown",
   "metadata": {},
   "source": [
    "Using the same work as above in number 1, we have our **Three-Point Midpoint Formula** using the middle of the three formulas:   \n",
    "$$f'(x_0)=\\frac{1}{2h}[-f(x_0-h)+f(x_0+h)]-\\frac{h^2}{6}f^{(3)}(\\xi_1)$$   \n",
    "where $\\xi_1$ lies between $x_0-h$ and $x_0+h$."
   ]
  },
  {
   "cell_type": "markdown",
   "metadata": {},
   "source": [
    "### (3) five-point endpoints: $x_0, x_1 = x_0 + h$, $x_2 = x_0 + 2h$, $x_3 = x_0 + 3h$, $x_4 = x_0 + 4h$, for some $h\\neq0$"
   ]
  },
  {
   "cell_type": "markdown",
   "metadata": {},
   "source": [
    "Usint the same method we did for the three-point formulas, we obtain   \n",
    "$$f'(x_0)=\\frac{1}{12h}[-25f(x_0)+48f(x_0+h)-36f(x_0+2h)+16f(x_0+3h)-3f(x_0+4h)]+\\frac{h^4}{5}f^{(5)}(\\xi),$$   \n",
    "where $\\xi$ lies between $x_0$ and $x_0+4h$. "
   ]
  },
  {
   "cell_type": "markdown",
   "metadata": {},
   "source": [
    "### (4) five-point midpoint: $x_0, x_0 − h$, $x_0 + h$, $x_0 − 2h$, and $x_0 + 2h$, for some $h\\neq0$"
   ]
  },
  {
   "cell_type": "markdown",
   "metadata": {},
   "source": [
    "Using the same method we did for the three-point formuals, we obtain   \n",
    "$$f'(x_0)=\\frac{1}{12h}[f(x_0-2h)-8f(x_0-h)+8f(x_0+h)-f(x_0+2h)]+\\frac{h^4}{30}f^{(5)}(\\xi),$$   \n",
    "where $\\xi$ lies between $x_0-2h$ and $x_0+2h$."
   ]
  },
  {
   "cell_type": "markdown",
   "metadata": {},
   "source": [
    "## Part 3: Numerical Integration"
   ]
  },
  {
   "cell_type": "markdown",
   "metadata": {},
   "source": [
    "### (1) Use linear Lagrange polynomial to derive Trapezoidal rule"
   ]
  },
  {
   "cell_type": "markdown",
   "metadata": {},
   "source": [
    "$$\\int_{a}^{b} f(x)dx$$  \n",
    "$$P_1(x) =\\frac{(x-x_1)}{(x_0 - x_1)}f(x_0) + \\frac{(x-x_0)}{(x_1 - x_0)}f(x_1)$$   "
   ]
  },
  {
   "cell_type": "markdown",
   "metadata": {},
   "source": [
    "<div align=\"center\">And so:</div>             "
   ]
  },
  {
   "cell_type": "markdown",
   "metadata": {},
   "source": [
    "$$\\int_{a}^{b} f(x)dx = \\int_{x_0}^{x_1}[P_1(x)] + \\frac{1}{2} \\int_{x_0}^{x_1} f''(\\xi(x))(x-x_0)(x-x_1)dx$$ "
   ]
  },
  {
   "cell_type": "markdown",
   "metadata": {},
   "source": [
    "<div align=\"center\">or</div>"
   ]
  },
  {
   "cell_type": "markdown",
   "metadata": {},
   "source": [
    "$$\\int_{a}^{b} f(x)dx = \\int_{x_0}^{x_1}[\\frac{(x-x_1)}{(x_0 - x_1)}f(x_0) + \\frac{(x-x_0)}{(x_1 - x_0)}f(x_1)]  + \\frac{1}{2} \\int_{x_0}^{x_1} f''(\\xi(x))(x-x_0)(x-x_1)dx$$"
   ]
  },
  {
   "cell_type": "markdown",
   "metadata": {},
   "source": [
    "<div align=\"center\">which is equivilent to "
   ]
  },
  {
   "cell_type": "markdown",
   "metadata": {},
   "source": [
    "$$\\int_{x_0}^{x_1} f''(\\xi(x))(x-x_0)(x-x_1)dx \\\\ = f''(\\xi(x)) \\int_{x_0}^{x_1}(x-x_0)(x-x_1)dx $$</div>\n",
    "\n",
    "$$= f''(\\xi(x)) [\\frac{x^3}{3} - \\frac{(x_1 + x_0)}{2}x^2 + x_0 x_1 x_2]_{x_0}^{x_1}$$\n",
    "\n",
    "$$= -\\frac{h^3}{6}f''(\\xi)$$"
   ]
  },
  {
   "cell_type": "markdown",
   "metadata": {},
   "source": [
    "<div align=\"center\">by Weighted Mean Value Theorem</div>"
   ]
  },
  {
   "cell_type": "markdown",
   "metadata": {},
   "source": [
    "$$\\int_{a}^{b} f(x)dx = [\\frac{(x-x_1)}{2(x_0 - x_1)}f(x_0) + \\frac{(x-x_0)}{2(x_1 - x_0)}f(x_1)]_{x_0}^{x_1} - \\frac{h^3}{12}f''(\\xi)$$\n",
    "\n",
    "$$=\\frac{(x_1 - x_0)}{2} [f(x_0)+f(x_1)] - \\frac{h^3}{12}f''(\\xi)$$\n",
    "\n",
    "if step (h) = $(x_1 - x_0)$ then:"
   ]
  },
  {
   "cell_type": "markdown",
   "metadata": {},
   "source": [
    "**Trapezoidal Rule:**\n",
    "$\\int_{a}^{b}f(x)dx = \\frac{h}{2}[f(x_0) + f(x_1)] - \\frac{h^3}{12}f''(\\xi)$\n",
    "\n",
    "for the purposes of this code, we disregard the error.\n",
    "The code from class lectures does not include error.\n",
    "\n",
    "$\\int_{a}^{b}f(x)dx = \\frac{h}{2}[f(x_0) + f(x_1)] $"
   ]
  },
  {
   "cell_type": "markdown",
   "metadata": {},
   "source": [
    "### (2) Use quadratic Lagrange polynomial to derive Simpson’s 1/3-rule"
   ]
  },
  {
   "cell_type": "markdown",
   "metadata": {},
   "source": [
    "<div align=\"center\">For simpson's $\\frac{1}{3}$ rule, we derive $P_2(x)$</div>"
   ]
  },
  {
   "cell_type": "markdown",
   "metadata": {},
   "source": [
    "$$P_2(x) = \\frac{(x-x_1)(x-x_2)}{(x_0-x_1)(x_0-x_2)}f(x_0) + \\frac{(x-x_0)(x-x_2)}{(x_1-x_0)(x_1-x_2)}f(x_1)  + \\frac{(x-x_0)(x-x_1)}{(x_2-x_0)(x_2-x_1)}f(x_2) $$"
   ]
  },
  {
   "cell_type": "markdown",
   "metadata": {},
   "source": [
    "<div align=\"center\">therefore</div>"
   ]
  },
  {
   "cell_type": "markdown",
   "metadata": {},
   "source": [
    "$$ \\int_{a}^{b}f(x)dx = \\int_{x_0}^{x_2}[P_2(x)]dx  + \\int_{x_0}^{x_2} \\frac{(x-x_0)(x-x_1)(x-x_2)}{6}f^{(3)}(\\xi(x))dx $$"
   ]
  },
  {
   "cell_type": "markdown",
   "metadata": {},
   "source": [
    "<div align=\"center\">Using Taylor Expansion:</div>"
   ]
  },
  {
   "cell_type": "markdown",
   "metadata": {},
   "source": [
    "$$\\int_{x_0}^{x_2}[P_2(x)]dx = \\int_{x_0}^{x_2}[f(x_1)(x-x_1) + \\frac{f'(x_1)}{2!}(x-x_1)^2) + ... + \\frac{f^{(k-1)}(x_1)}{k!}(x-x_1)^k)]_{x_0}^{x_2} + \\\\ + \\frac{1}{24}\\int_{x_0}^{x_2} f^{(4)}(\\xi(x))(x-x_1)^4dx$$"
   ]
  },
  {
   "cell_type": "markdown",
   "metadata": {},
   "source": [
    "<div align=\"center\">now by Weighted Mean Value Theorem</div>"
   ]
  },
  {
   "cell_type": "markdown",
   "metadata": {},
   "source": [
    "$$\\frac{1}{24}\\int_{x_0}^{x_2} f^{(4)}(\\xi(x))(x-x_1)^4dx \\\\ = \\frac{f^{(4)}(\\xi_1)}{24}\\int_{x_0}^{x_2}(x-x_1)^4dx \\\\ = [\\frac{f^{(4)}(\\xi_1)}{120}(x-x_1)^5]_{x_0}^{x_2}$$"
   ]
  },
  {
   "cell_type": "markdown",
   "metadata": {},
   "source": [
    "because $h=x_2-x_1 = x_1-x_0$, and $(x_2-x_1)^3 - (x_0-x_1)^3 = 2h^3$ and $(x_2-x_1)^5 - (x_0-x_1)^5 = 2h^5$\n",
    "\n",
    "the equation can be rewritten:\n",
    "\n",
    "$$\\int_{x_0}^{x_2}f(x)dx = 2hf(x_1) + \\frac{h^3}{3}f''(x_1) + \\frac{f^{(4)}(\\xi_1)}{60}h^5$$"
   ]
  },
  {
   "cell_type": "markdown",
   "metadata": {},
   "source": [
    "If we use the Second Derivative Midpoint Formula:\n",
    "$$f''(x_0) = \\frac{1}{h^2}[f(x_0 - h) - 2f(x_0) + f(x_0 + h)] - \\frac{h^2}{/12}f^{(4)}(\\xi)$$"
   ]
  },
  {
   "cell_type": "markdown",
   "metadata": {},
   "source": [
    "Substituting the SDM formula in place of $f''(x_0)$ we get:\n",
    "\n",
    "$$\\int_{x_0}^{x_2}f(x)dx = 2hf(x_1) + \\frac{h^3}{3}[\\frac{1}{h^2}[f(x_0) - 2f(x_1) + f(x_2)] - \\frac{h^2}{12} f^{(4)} (\\xi_2)] + \\frac{f^{(4)} (\\xi_1)}{60}h^5 \\\\ =\\frac{h}{3}[f(x_0) + 4f(x_1) + f(x_2)] - \\frac{h^5}{12}[\\frac{1}{3}f^{(4)}(\\xi_2)-\\frac{1}{5}f^({4})(\\xi_1)$$"
   ]
  },
  {
   "cell_type": "markdown",
   "metadata": {},
   "source": [
    "$\\xi_1$ and $\\xi_2$ can be replaced with some value $\\xi \\epsilon (x_0,x_2) $\n",
    "\n",
    "and thus we get"
   ]
  },
  {
   "cell_type": "markdown",
   "metadata": {},
   "source": [
    "**<div align=\"center\">Simpson's Rule:</div>**"
   ]
  },
  {
   "cell_type": "markdown",
   "metadata": {},
   "source": [
    "$$\\int_{x_0}^{x_2}f(x)dx = \\frac{h}{3}[f(x_0) + 4f(x_1) + f(x_2)] - \\frac{h^5}{90}f^{(4)}$$"
   ]
  },
  {
   "cell_type": "markdown",
   "metadata": {},
   "source": [
    "### (3) Use cubic Lagrange polynomial to derive Simpson’s 3/8-rule and derive the composite Simpson’s 3/8-rule\n"
   ]
  },
  {
   "cell_type": "markdown",
   "metadata": {},
   "source": [
    "Similarly, for $P_3(x)$,\n",
    "\n",
    "$$P_3(x) = \\frac{(x-x_1)(x-x_2)(x-x_3)}{(x_0-x_1)(x_0-x_2)(x_0-x_3}f(x_0) + \\frac{(x-x_0)(x-x_2)(x-x_3)}{(x_1-x_0)(x_1-x_2)(x_1-x_3)}f(x_1) \\\\ + \\frac{(x-x_0)(x-x_1)(x-x_3)}{(x_2-x_0)(x_2-x_1)(x_2-x_3)}f(x_2)   + \\frac{(x-x_0)(x-x_1)(x-x_2)}{(x_3-x_0)(x_3-x_1)(x_3-x_2)}f(x_3) $$\n"
   ]
  },
  {
   "cell_type": "markdown",
   "metadata": {},
   "source": [
    "Like before, we substitute  $P_3(x)$ \n",
    "\n",
    "$$ \\int_{a}^{b}f(x)dx = \\int_{x_0}^{x_3}[P_3(x)]dx  + \\int_{x_0}^{x_3} \\frac{(x-x_0)(x-x_1)(x-x_2)(x-x_3)}{24}f^{(4)}(\\xi(x))dx $$\n"
   ]
  },
  {
   "cell_type": "markdown",
   "metadata": {},
   "source": [
    "Following the same steps as the derivision for Simpson's 1/3 rule, we get\n",
    "$\\int_{x_0}^{x_3}f(x)dx = \\frac{3h}{8}[f(x_0) + 3f(x_1) + 3f(x_2) + f(x_3] - \\frac{3h^5}{80}f^{(4)}$\n",
    "\n"
   ]
  },
  {
   "cell_type": "markdown",
   "metadata": {},
   "source": [
    "### (4) (Code) - Implement Trapezoidal rule, composite Trapezoidal rule, Simpson’s 1/3-rule, composite Simpson’s 1/3-rule, Simpson’s 3/8-rule and composite Simpson’s 3/8-rule on the definite integral  \n",
    "$$\\int_0^1 \\sqrt{x^3+1}dx$$   \n",
    "### Include in the code the following answers"
   ]
  },
  {
   "cell_type": "markdown",
   "metadata": {},
   "source": [
    "### (a) approximation of the integral using Trapezoidal rule for $n = 2$ and $n = 4$"
   ]
  },
  {
   "cell_type": "code",
   "execution_count": 1,
   "metadata": {
    "pycharm": {
     "is_executing": false
    }
   },
   "outputs": [],
   "source": [
    "# Code only, answers to all parts of question 4 found at bottom of page\n",
    "import numpy as np\n",
    "import math\n",
    "\n",
    "#define a function\n",
    "# def f(x):\n",
    "#     return x/(1+x**3)\n",
    "def f(x):\n",
    "    return math.sqrt((x**3) + 1)\n",
    "\n",
    "a=0; b=1; N=10\n",
    "n=100\n",
    "\n",
    "f = np.vectorize(f)\n",
    "\n",
    "x = np.linspace(a,b,N+1)\n",
    "y = f(x)\n",
    "\n",
    "X = np.linspace(a,b,n*N+1)\n",
    "Y = f(X)\n"
   ]
  },
  {
   "cell_type": "code",
   "execution_count": 2,
   "metadata": {
    "pycharm": {
     "is_executing": false
    }
   },
   "outputs": [],
   "source": [
    "#Trapezoidal\n",
    "def trapezoidal(a,b,N):\n",
    "    area = (1/2)*(b-a)*(f(a)+f(b))\n",
    "    return print(\"Area using Trapezoidal rule : \",\"%.10f\" %area)"
   ]
  },
  {
   "cell_type": "markdown",
   "metadata": {},
   "source": [
    "### (b) approximation of the integral using composite Trapezoidal rule $n = 2$ and $n = 4$"
   ]
  },
  {
   "cell_type": "code",
   "execution_count": 3,
   "metadata": {
    "pycharm": {
     "is_executing": false
    }
   },
   "outputs": [],
   "source": [
    "# Code only, answers to all parts of question 4 found at bottom of page\n",
    "def compTrap(a,b,N):\n",
    "    area = 0\n",
    "    sum_x = 0\n",
    "    h = (b-a)/N\n",
    "    for i in range(1,N-1):\n",
    "        sum_x += f(x[i])\n",
    "    \n",
    "    area = (1/2)*h*(f(a)+f(b)+2*sum_x)\n",
    "    return print(\"Area using Composite Trapezoidal rule : \",\"%.10f\" %area)"
   ]
  },
  {
   "cell_type": "markdown",
   "metadata": {},
   "source": [
    "### (c) approximation of the integral using Simpson’s 1/3-rule for $n = 2$ and $n = 4$"
   ]
  },
  {
   "cell_type": "code",
   "execution_count": 4,
   "metadata": {
    "pycharm": {
     "is_executing": false
    }
   },
   "outputs": [],
   "source": [
    "# Code only, answers to all parts of question 4 found at bottom of page\n",
    "def simpson(a,b,N):\n",
    "    h = (b-a)/N\n",
    "    area = (h/3) * (f(a)+4*f((a+b)/2)+f(b))\n",
    "    return print(\"Area using Simpson rule : \",\"%.10f\" %area)"
   ]
  },
  {
   "cell_type": "markdown",
   "metadata": {},
   "source": [
    "### (d) approximation of the integral using composite Simpson’s 1/3-rule for $n = 2$ and $n = 4$"
   ]
  },
  {
   "cell_type": "code",
   "execution_count": 10,
   "metadata": {
    "pycharm": {
     "is_executing": false
    }
   },
   "outputs": [],
   "source": [
    "# Code only, answers to all parts of question 4 found at bottom of page\n",
    "def comp_simpson(a,b,N):\n",
    "    h = (b-a)/N\n",
    "    sum1 = 0; sum2 = 0\n",
    "    for i in range(int(N/2)):\n",
    "        sum1+=f(x[2*i-1])\n",
    "    for i in range((int(N/2)-1)):\n",
    "        sum2+=f(x[2*i])\n",
    "    \n",
    "    area = (h/3) * (f(a)+4*sum1+2*sum2+f(b))\n",
    "    return print(\"Area using Composite Simpson's rule : \",\"%.10f\" %area)"
   ]
  },
  {
   "cell_type": "markdown",
   "metadata": {},
   "source": [
    "### (e) approximation of the integral using Simpson’s 3/8-rule for $n = 2$ and $n = 4$"
   ]
  },
  {
   "cell_type": "code",
   "execution_count": 6,
   "metadata": {
    "pycharm": {
     "is_executing": false
    }
   },
   "outputs": [],
   "source": [
    "# Code only, answers to all parts of question 4 found at bottom of page\n",
    "def simpson38(a,b,N):\n",
    "    #simpson 3/8 rule integrates from x0 to x3, where x0 and x3 are given, we must find the two numbers x1,x2\n",
    "    #Given x0<x1<x2<x3, we know say x1 = 1/3 a+b, x2 = 2/3 a+b,\n",
    "    #If x0 were 0 and x3 were 9, x1 would be 1/3 * 9 -> 3, and x2 would be 2/3 * 9 -> 6\n",
    "    h = (b - a) / N\n",
    "    area = (3*h / 8) * ((f(a) + 3) * (f((a + b) / 3)) + (3 * f(2*(a + b) / 3)) + f(b)) #x0 = a, x1= 1/3 b+a, x2= 2/3 b+a, x3 = b\n",
    "    return print(\"Area using Simpson rule : \", \"%.10f\" % area)"
   ]
  },
  {
   "cell_type": "markdown",
   "metadata": {},
   "source": [
    "### (f) approximation of the integral using composite Simpson’s 3/8-rule for $n = 2$ and $n = 4$"
   ]
  },
  {
   "cell_type": "code",
   "execution_count": 24,
   "metadata": {
    "pycharm": {
     "is_executing": false
    }
   },
   "outputs": [],
   "source": [
    "# Code only, answers to all parts of question 4 found at bottom of page\n",
    "def comp_simpson38(a, b, N):\n",
    "    h = (b - a) / N\n",
    "    sum1 = 0\n",
    "    sum2 = 0\n",
    "    for i in range((int(N/2)-1)):\n",
    "        sum1 += f(x[3 * i - 1])\n",
    "    for i in range(int(N/2)):\n",
    "        if(i%3==0):\n",
    "            sum2 += f(x[2 * i])\n",
    "\n",
    "    area = (h / 3) * (f(a) + 3 * sum1 + 2 * sum2 + f(b))\n",
    "    return print(\"Area using Composite Simpson's rule : \", \"%.10f\" % area)\n",
    "\n",
    "\n"
   ]
  },
  {
   "cell_type": "code",
   "execution_count": 25,
   "metadata": {
    "pycharm": {
     "is_executing": false
    }
   },
   "outputs": [],
   "source": [
    "#If one wanted to see graphs, the functions can be graphed here:\n",
    "\n",
    "# import matplotlib.pyplot as plt\n",
    "# \n",
    "# plt.figure(figsize=(20,5))\n",
    "# \n",
    "# # plt.subplot(1,2,1)\n",
    "# # plt.plot(x,y,'b')   #plot using just N+1 points\n",
    "# # plt.plot(X,Y,'r')   #plot using n*N+1 points\n",
    "# \n",
    "# plt.subplot(1,2,2)\n",
    "# plt.plot(x,y,'b')\n",
    "# plt.plot(X,Y,'r')\n",
    "# for i in range(N):\n",
    "#     xs = [x[i],x[i],x[i+1],x[i+1]]\n",
    "#     ys = [0,f(x[i]),f(x[i+1]),0]\n",
    "#     plt.fill(xs,ys,'b',edgecolor='b',alpha=0.2)\n",
    "# plt.title('Trapezoidal Rule, N={}'.format(N))\n",
    "# plt.show()"
   ]
  },
  {
   "cell_type": "code",
   "execution_count": 26,
   "metadata": {
    "pycharm": {
     "is_executing": false
    }
   },
   "outputs": [
    {
     "name": "stdout",
     "text": [
      "Area using Trapezoidal rule :  1.2071067812\n",
      "Area using Composite Trapezoidal rule :  0.9808409462\n",
      "Area using Simpson rule :  0.2218951416\n",
      "Area using Composite Simpson's rule :  1.1288986758\n",
      "Area using Simpson rule :  0.3338724163\n",
      "Area using Composite Simpson's rule :  0.6915053645\n"
     ],
     "output_type": "stream"
    }
   ],
   "source": [
    "def main():\n",
    "    trapezoidal(a,b,N)\n",
    "    compTrap(a,b,N)\n",
    "    simpson(a,b,N)\n",
    "    comp_simpson(a,b,N)\n",
    "    simpson38(a,b,N)\n",
    "    comp_simpson38(a,b,N)\n",
    "    \n",
    "if __name__ == '__main__':\n",
    "    main()\n"
   ]
  },
  {
   "cell_type": "code",
   "execution_count": null,
   "outputs": [],
   "source": [
    "\n"
   ],
   "metadata": {
    "collapsed": false,
    "pycharm": {
     "name": "#%%\n"
    }
   }
  }
 ],
 "metadata": {
  "kernelspec": {
   "display_name": "Python 3",
   "language": "python",
   "name": "python3"
  },
  "language_info": {
   "codemirror_mode": {
    "name": "ipython",
    "version": 3
   },
   "file_extension": ".py",
   "mimetype": "text/x-python",
   "name": "python",
   "nbconvert_exporter": "python",
   "pygments_lexer": "ipython3",
   "version": "3.7.4"
  },
  "pycharm": {
   "stem_cell": {
    "cell_type": "raw",
    "source": [],
    "metadata": {
     "collapsed": false
    }
   }
  }
 },
 "nbformat": 4,
 "nbformat_minor": 2
}